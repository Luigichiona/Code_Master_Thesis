{
 "cells": [
  {
   "cell_type": "code",
   "execution_count": null,
   "metadata": {
    "colab": {
     "base_uri": "https://localhost:8080/"
    },
    "id": "jVqk3-8O_v3P",
    "outputId": "c30509c2-b36b-48bd-9a57-85f277f3d2de"
   },
   "outputs": [
    {
     "name": "stdout",
     "output_type": "stream",
     "text": [
      "Collecting catboost\n",
      "  Downloading catboost-1.2.7-cp311-cp311-manylinux2014_x86_64.whl.metadata (1.2 kB)\n",
      "Requirement already satisfied: graphviz in /usr/local/lib/python3.11/dist-packages (from catboost) (0.20.3)\n",
      "Requirement already satisfied: matplotlib in /usr/local/lib/python3.11/dist-packages (from catboost) (3.10.0)\n",
      "Requirement already satisfied: numpy<2.0,>=1.16.0 in /usr/local/lib/python3.11/dist-packages (from catboost) (1.26.4)\n",
      "Requirement already satisfied: pandas>=0.24 in /usr/local/lib/python3.11/dist-packages (from catboost) (2.2.2)\n",
      "Requirement already satisfied: scipy in /usr/local/lib/python3.11/dist-packages (from catboost) (1.13.1)\n",
      "Requirement already satisfied: plotly in /usr/local/lib/python3.11/dist-packages (from catboost) (5.24.1)\n",
      "Requirement already satisfied: six in /usr/local/lib/python3.11/dist-packages (from catboost) (1.17.0)\n",
      "Requirement already satisfied: python-dateutil>=2.8.2 in /usr/local/lib/python3.11/dist-packages (from pandas>=0.24->catboost) (2.8.2)\n",
      "Requirement already satisfied: pytz>=2020.1 in /usr/local/lib/python3.11/dist-packages (from pandas>=0.24->catboost) (2025.1)\n",
      "Requirement already satisfied: tzdata>=2022.7 in /usr/local/lib/python3.11/dist-packages (from pandas>=0.24->catboost) (2025.1)\n",
      "Requirement already satisfied: contourpy>=1.0.1 in /usr/local/lib/python3.11/dist-packages (from matplotlib->catboost) (1.3.1)\n",
      "Requirement already satisfied: cycler>=0.10 in /usr/local/lib/python3.11/dist-packages (from matplotlib->catboost) (0.12.1)\n",
      "Requirement already satisfied: fonttools>=4.22.0 in /usr/local/lib/python3.11/dist-packages (from matplotlib->catboost) (4.56.0)\n",
      "Requirement already satisfied: kiwisolver>=1.3.1 in /usr/local/lib/python3.11/dist-packages (from matplotlib->catboost) (1.4.8)\n",
      "Requirement already satisfied: packaging>=20.0 in /usr/local/lib/python3.11/dist-packages (from matplotlib->catboost) (24.2)\n",
      "Requirement already satisfied: pillow>=8 in /usr/local/lib/python3.11/dist-packages (from matplotlib->catboost) (11.1.0)\n",
      "Requirement already satisfied: pyparsing>=2.3.1 in /usr/local/lib/python3.11/dist-packages (from matplotlib->catboost) (3.2.1)\n",
      "Requirement already satisfied: tenacity>=6.2.0 in /usr/local/lib/python3.11/dist-packages (from plotly->catboost) (9.0.0)\n",
      "Downloading catboost-1.2.7-cp311-cp311-manylinux2014_x86_64.whl (98.7 MB)\n",
      "\u001b[2K   \u001b[90m━━━━━━━━━━━━━━━━━━━━━━━━━━━━━━━━━━━━━━━━\u001b[0m \u001b[32m98.7/98.7 MB\u001b[0m \u001b[31m8.7 MB/s\u001b[0m eta \u001b[36m0:00:00\u001b[0m\n",
      "\u001b[?25hInstalling collected packages: catboost\n",
      "Successfully installed catboost-1.2.7\n"
     ]
    }
   ],
   "source": [
    "pip install catboost"
   ]
  },
  {
   "cell_type": "code",
   "execution_count": null,
   "metadata": {
    "id": "rjiM9N2BwgVs"
   },
   "outputs": [],
   "source": [
    "import pandas as pd\n",
    "import matplotlib.pyplot as plt\n",
    "import numpy as np\n",
    "from sklearn.tree import DecisionTreeClassifier\n",
    "from sklearn.svm import SVC\n",
    "from sklearn.ensemble import RandomForestClassifier\n",
    "from sklearn.linear_model import LogisticRegression\n",
    "from xgboost import XGBClassifier\n",
    "from lightgbm import LGBMClassifier\n",
    "from sklearn.metrics import accuracy_score\n",
    "from catboost import CatBoostClassifier\n",
    "from sklearn.model_selection import train_test_split"
   ]
  },
  {
   "cell_type": "code",
   "execution_count": null,
   "metadata": {
    "colab": {
     "base_uri": "https://localhost:8080/"
    },
    "id": "7O8dPKSvw1LO",
    "outputId": "2aa3385c-062d-4f8e-ec26-f59ec6c45769"
   },
   "outputs": [
    {
     "name": "stdout",
     "output_type": "stream",
     "text": [
      "Combined dataset saved at: /content/combined_dataset.csv\n"
     ]
    }
   ],
   "source": [
    "import pandas as pd\n",
    "import os\n",
    "\n",
    "# Define the folder where your CSV files are stored (current working directory)\n",
    "folder_path = \"/content\"\n",
    "# Initialize an empty list to store DataFrames\n",
    "dataframes = []\n",
    "# Loop through all CSV files in the folder\n",
    "for file in os.listdir(folder_path):\n",
    "    if file.endswith(\".csv\"):  # Process only CSV files\n",
    "        file_path = os.path.join(folder_path, file)\n",
    "        # Read the CSV file\n",
    "        df = pd.read_csv(file_path)\n",
    "        # Extract the attack type from the file name (excluding extension)\n",
    "        attack_type = os.path.splitext(file)[0]\n",
    "        # Add a new column for Attack_Type\n",
    "        df[\"Attack_Type\"] = attack_type\n",
    "        # Append the DataFrame to the list\n",
    "        dataframes.append(df)\n",
    "# Combine all DataFrames into a single DataFrame\n",
    "combined_data = pd.concat(dataframes, ignore_index=True)\n",
    "# Save the combined dataset into a new CSV file in the same folder\n",
    "output_path = os.path.join(folder_path, \"combined_dataset.csv\")\n",
    "combined_data.to_csv(output_path, index=False)\n",
    "print(f\"Combined dataset saved at: {output_path}\")\n"
   ]
  },
  {
   "cell_type": "code",
   "execution_count": null,
   "metadata": {
    "colab": {
     "base_uri": "https://localhost:8080/"
    },
    "id": "UJZnJjQNyqjk",
    "outputId": "6a6d1650-f400-41b6-f057-6103938db58d"
   },
   "outputs": [
    {
     "data": {
      "text/plain": [
       "(792585, 46)"
      ]
     },
     "execution_count": 5,
     "metadata": {},
     "output_type": "execute_result"
    }
   ],
   "source": [
    "\n",
    "combined_data.shape"
   ]
  },
  {
   "cell_type": "code",
   "execution_count": null,
   "metadata": {
    "colab": {
     "base_uri": "https://localhost:8080/",
     "height": 273
    },
    "id": "e_3rEwy3zGSP",
    "outputId": "b37e5a19-a829-4d7a-f9cd-26ee97e450f8"
   },
   "outputs": [
    {
     "data": {
      "application/vnd.google.colaboratory.intrinsic+json": {
       "type": "dataframe",
       "variable_name": "combined_data"
      },
      "text/html": [
       "\n",
       "  <div id=\"df-d10df6a1-dbd1-4b02-8d57-0fd64cc2dd7d\" class=\"colab-df-container\">\n",
       "    <div>\n",
       "<style scoped>\n",
       "    .dataframe tbody tr th:only-of-type {\n",
       "        vertical-align: middle;\n",
       "    }\n",
       "\n",
       "    .dataframe tbody tr th {\n",
       "        vertical-align: top;\n",
       "    }\n",
       "\n",
       "    .dataframe thead th {\n",
       "        text-align: right;\n",
       "    }\n",
       "</style>\n",
       "<table border=\"1\" class=\"dataframe\">\n",
       "  <thead>\n",
       "    <tr style=\"text-align: right;\">\n",
       "      <th></th>\n",
       "      <th>Header_Length</th>\n",
       "      <th>Protocol Type</th>\n",
       "      <th>Duration</th>\n",
       "      <th>Rate</th>\n",
       "      <th>Srate</th>\n",
       "      <th>Drate</th>\n",
       "      <th>fin_flag_number</th>\n",
       "      <th>syn_flag_number</th>\n",
       "      <th>rst_flag_number</th>\n",
       "      <th>psh_flag_number</th>\n",
       "      <th>...</th>\n",
       "      <th>Std</th>\n",
       "      <th>Tot size</th>\n",
       "      <th>IAT</th>\n",
       "      <th>Number</th>\n",
       "      <th>Magnitue</th>\n",
       "      <th>Radius</th>\n",
       "      <th>Covariance</th>\n",
       "      <th>Variance</th>\n",
       "      <th>Weight</th>\n",
       "      <th>Attack_Type</th>\n",
       "    </tr>\n",
       "  </thead>\n",
       "  <tbody>\n",
       "    <tr>\n",
       "      <th>0</th>\n",
       "      <td>114.6</td>\n",
       "      <td>5.9</td>\n",
       "      <td>51.2</td>\n",
       "      <td>30655.032896</td>\n",
       "      <td>30655.032896</td>\n",
       "      <td>0.0</td>\n",
       "      <td>0.0</td>\n",
       "      <td>0.0</td>\n",
       "      <td>0.0</td>\n",
       "      <td>0.5</td>\n",
       "      <td>...</td>\n",
       "      <td>54.909851</td>\n",
       "      <td>99.6</td>\n",
       "      <td>1.694104e+08</td>\n",
       "      <td>5.5</td>\n",
       "      <td>13.639579</td>\n",
       "      <td>77.654256</td>\n",
       "      <td>3685.081162</td>\n",
       "      <td>0.9</td>\n",
       "      <td>38.5</td>\n",
       "      <td>combined_dataset</td>\n",
       "    </tr>\n",
       "    <tr>\n",
       "      <th>1</th>\n",
       "      <td>129.0</td>\n",
       "      <td>6.0</td>\n",
       "      <td>64.0</td>\n",
       "      <td>90366.618129</td>\n",
       "      <td>90366.618129</td>\n",
       "      <td>0.0</td>\n",
       "      <td>0.0</td>\n",
       "      <td>0.0</td>\n",
       "      <td>0.0</td>\n",
       "      <td>0.5</td>\n",
       "      <td>...</td>\n",
       "      <td>49.319359</td>\n",
       "      <td>81.2</td>\n",
       "      <td>1.694104e+08</td>\n",
       "      <td>13.5</td>\n",
       "      <td>13.647331</td>\n",
       "      <td>69.908824</td>\n",
       "      <td>2457.350159</td>\n",
       "      <td>1.0</td>\n",
       "      <td>244.6</td>\n",
       "      <td>combined_dataset</td>\n",
       "    </tr>\n",
       "    <tr>\n",
       "      <th>2</th>\n",
       "      <td>321.1</td>\n",
       "      <td>7.1</td>\n",
       "      <td>100.6</td>\n",
       "      <td>13324.032213</td>\n",
       "      <td>13324.032213</td>\n",
       "      <td>0.0</td>\n",
       "      <td>0.0</td>\n",
       "      <td>0.0</td>\n",
       "      <td>0.0</td>\n",
       "      <td>0.4</td>\n",
       "      <td>...</td>\n",
       "      <td>48.063324</td>\n",
       "      <td>119.4</td>\n",
       "      <td>8.832250e-02</td>\n",
       "      <td>5.5</td>\n",
       "      <td>14.179865</td>\n",
       "      <td>67.971805</td>\n",
       "      <td>3322.481708</td>\n",
       "      <td>0.7</td>\n",
       "      <td>38.5</td>\n",
       "      <td>combined_dataset</td>\n",
       "    </tr>\n",
       "    <tr>\n",
       "      <th>3</th>\n",
       "      <td>292.6</td>\n",
       "      <td>6.0</td>\n",
       "      <td>80.8</td>\n",
       "      <td>3.897624</td>\n",
       "      <td>3.897624</td>\n",
       "      <td>0.0</td>\n",
       "      <td>0.0</td>\n",
       "      <td>0.0</td>\n",
       "      <td>0.0</td>\n",
       "      <td>0.6</td>\n",
       "      <td>...</td>\n",
       "      <td>59.841524</td>\n",
       "      <td>87.5</td>\n",
       "      <td>1.694104e+08</td>\n",
       "      <td>13.5</td>\n",
       "      <td>14.849839</td>\n",
       "      <td>84.803609</td>\n",
       "      <td>3609.775298</td>\n",
       "      <td>1.0</td>\n",
       "      <td>244.6</td>\n",
       "      <td>combined_dataset</td>\n",
       "    </tr>\n",
       "    <tr>\n",
       "      <th>4</th>\n",
       "      <td>483.6</td>\n",
       "      <td>7.1</td>\n",
       "      <td>69.9</td>\n",
       "      <td>8.191751</td>\n",
       "      <td>8.191751</td>\n",
       "      <td>0.0</td>\n",
       "      <td>0.0</td>\n",
       "      <td>0.0</td>\n",
       "      <td>0.0</td>\n",
       "      <td>0.4</td>\n",
       "      <td>...</td>\n",
       "      <td>180.179746</td>\n",
       "      <td>160.9</td>\n",
       "      <td>8.218880e-02</td>\n",
       "      <td>5.5</td>\n",
       "      <td>16.531551</td>\n",
       "      <td>254.812640</td>\n",
       "      <td>53155.729481</td>\n",
       "      <td>0.9</td>\n",
       "      <td>38.5</td>\n",
       "      <td>combined_dataset</td>\n",
       "    </tr>\n",
       "  </tbody>\n",
       "</table>\n",
       "<p>5 rows × 46 columns</p>\n",
       "</div>\n",
       "    <div class=\"colab-df-buttons\">\n",
       "\n",
       "  <div class=\"colab-df-container\">\n",
       "    <button class=\"colab-df-convert\" onclick=\"convertToInteractive('df-d10df6a1-dbd1-4b02-8d57-0fd64cc2dd7d')\"\n",
       "            title=\"Convert this dataframe to an interactive table.\"\n",
       "            style=\"display:none;\">\n",
       "\n",
       "  <svg xmlns=\"http://www.w3.org/2000/svg\" height=\"24px\" viewBox=\"0 -960 960 960\">\n",
       "    <path d=\"M120-120v-720h720v720H120Zm60-500h600v-160H180v160Zm220 220h160v-160H400v160Zm0 220h160v-160H400v160ZM180-400h160v-160H180v160Zm440 0h160v-160H620v160ZM180-180h160v-160H180v160Zm440 0h160v-160H620v160Z\"/>\n",
       "  </svg>\n",
       "    </button>\n",
       "\n",
       "  <style>\n",
       "    .colab-df-container {\n",
       "      display:flex;\n",
       "      gap: 12px;\n",
       "    }\n",
       "\n",
       "    .colab-df-convert {\n",
       "      background-color: #E8F0FE;\n",
       "      border: none;\n",
       "      border-radius: 50%;\n",
       "      cursor: pointer;\n",
       "      display: none;\n",
       "      fill: #1967D2;\n",
       "      height: 32px;\n",
       "      padding: 0 0 0 0;\n",
       "      width: 32px;\n",
       "    }\n",
       "\n",
       "    .colab-df-convert:hover {\n",
       "      background-color: #E2EBFA;\n",
       "      box-shadow: 0px 1px 2px rgba(60, 64, 67, 0.3), 0px 1px 3px 1px rgba(60, 64, 67, 0.15);\n",
       "      fill: #174EA6;\n",
       "    }\n",
       "\n",
       "    .colab-df-buttons div {\n",
       "      margin-bottom: 4px;\n",
       "    }\n",
       "\n",
       "    [theme=dark] .colab-df-convert {\n",
       "      background-color: #3B4455;\n",
       "      fill: #D2E3FC;\n",
       "    }\n",
       "\n",
       "    [theme=dark] .colab-df-convert:hover {\n",
       "      background-color: #434B5C;\n",
       "      box-shadow: 0px 1px 3px 1px rgba(0, 0, 0, 0.15);\n",
       "      filter: drop-shadow(0px 1px 2px rgba(0, 0, 0, 0.3));\n",
       "      fill: #FFFFFF;\n",
       "    }\n",
       "  </style>\n",
       "\n",
       "    <script>\n",
       "      const buttonEl =\n",
       "        document.querySelector('#df-d10df6a1-dbd1-4b02-8d57-0fd64cc2dd7d button.colab-df-convert');\n",
       "      buttonEl.style.display =\n",
       "        google.colab.kernel.accessAllowed ? 'block' : 'none';\n",
       "\n",
       "      async function convertToInteractive(key) {\n",
       "        const element = document.querySelector('#df-d10df6a1-dbd1-4b02-8d57-0fd64cc2dd7d');\n",
       "        const dataTable =\n",
       "          await google.colab.kernel.invokeFunction('convertToInteractive',\n",
       "                                                    [key], {});\n",
       "        if (!dataTable) return;\n",
       "\n",
       "        const docLinkHtml = 'Like what you see? Visit the ' +\n",
       "          '<a target=\"_blank\" href=https://colab.research.google.com/notebooks/data_table.ipynb>data table notebook</a>'\n",
       "          + ' to learn more about interactive tables.';\n",
       "        element.innerHTML = '';\n",
       "        dataTable['output_type'] = 'display_data';\n",
       "        await google.colab.output.renderOutput(dataTable, element);\n",
       "        const docLink = document.createElement('div');\n",
       "        docLink.innerHTML = docLinkHtml;\n",
       "        element.appendChild(docLink);\n",
       "      }\n",
       "    </script>\n",
       "  </div>\n",
       "\n",
       "\n",
       "<div id=\"df-06026aa7-96cd-40ba-8929-135596d9dd0d\">\n",
       "  <button class=\"colab-df-quickchart\" onclick=\"quickchart('df-06026aa7-96cd-40ba-8929-135596d9dd0d')\"\n",
       "            title=\"Suggest charts\"\n",
       "            style=\"display:none;\">\n",
       "\n",
       "<svg xmlns=\"http://www.w3.org/2000/svg\" height=\"24px\"viewBox=\"0 0 24 24\"\n",
       "     width=\"24px\">\n",
       "    <g>\n",
       "        <path d=\"M19 3H5c-1.1 0-2 .9-2 2v14c0 1.1.9 2 2 2h14c1.1 0 2-.9 2-2V5c0-1.1-.9-2-2-2zM9 17H7v-7h2v7zm4 0h-2V7h2v10zm4 0h-2v-4h2v4z\"/>\n",
       "    </g>\n",
       "</svg>\n",
       "  </button>\n",
       "\n",
       "<style>\n",
       "  .colab-df-quickchart {\n",
       "      --bg-color: #E8F0FE;\n",
       "      --fill-color: #1967D2;\n",
       "      --hover-bg-color: #E2EBFA;\n",
       "      --hover-fill-color: #174EA6;\n",
       "      --disabled-fill-color: #AAA;\n",
       "      --disabled-bg-color: #DDD;\n",
       "  }\n",
       "\n",
       "  [theme=dark] .colab-df-quickchart {\n",
       "      --bg-color: #3B4455;\n",
       "      --fill-color: #D2E3FC;\n",
       "      --hover-bg-color: #434B5C;\n",
       "      --hover-fill-color: #FFFFFF;\n",
       "      --disabled-bg-color: #3B4455;\n",
       "      --disabled-fill-color: #666;\n",
       "  }\n",
       "\n",
       "  .colab-df-quickchart {\n",
       "    background-color: var(--bg-color);\n",
       "    border: none;\n",
       "    border-radius: 50%;\n",
       "    cursor: pointer;\n",
       "    display: none;\n",
       "    fill: var(--fill-color);\n",
       "    height: 32px;\n",
       "    padding: 0;\n",
       "    width: 32px;\n",
       "  }\n",
       "\n",
       "  .colab-df-quickchart:hover {\n",
       "    background-color: var(--hover-bg-color);\n",
       "    box-shadow: 0 1px 2px rgba(60, 64, 67, 0.3), 0 1px 3px 1px rgba(60, 64, 67, 0.15);\n",
       "    fill: var(--button-hover-fill-color);\n",
       "  }\n",
       "\n",
       "  .colab-df-quickchart-complete:disabled,\n",
       "  .colab-df-quickchart-complete:disabled:hover {\n",
       "    background-color: var(--disabled-bg-color);\n",
       "    fill: var(--disabled-fill-color);\n",
       "    box-shadow: none;\n",
       "  }\n",
       "\n",
       "  .colab-df-spinner {\n",
       "    border: 2px solid var(--fill-color);\n",
       "    border-color: transparent;\n",
       "    border-bottom-color: var(--fill-color);\n",
       "    animation:\n",
       "      spin 1s steps(1) infinite;\n",
       "  }\n",
       "\n",
       "  @keyframes spin {\n",
       "    0% {\n",
       "      border-color: transparent;\n",
       "      border-bottom-color: var(--fill-color);\n",
       "      border-left-color: var(--fill-color);\n",
       "    }\n",
       "    20% {\n",
       "      border-color: transparent;\n",
       "      border-left-color: var(--fill-color);\n",
       "      border-top-color: var(--fill-color);\n",
       "    }\n",
       "    30% {\n",
       "      border-color: transparent;\n",
       "      border-left-color: var(--fill-color);\n",
       "      border-top-color: var(--fill-color);\n",
       "      border-right-color: var(--fill-color);\n",
       "    }\n",
       "    40% {\n",
       "      border-color: transparent;\n",
       "      border-right-color: var(--fill-color);\n",
       "      border-top-color: var(--fill-color);\n",
       "    }\n",
       "    60% {\n",
       "      border-color: transparent;\n",
       "      border-right-color: var(--fill-color);\n",
       "    }\n",
       "    80% {\n",
       "      border-color: transparent;\n",
       "      border-right-color: var(--fill-color);\n",
       "      border-bottom-color: var(--fill-color);\n",
       "    }\n",
       "    90% {\n",
       "      border-color: transparent;\n",
       "      border-bottom-color: var(--fill-color);\n",
       "    }\n",
       "  }\n",
       "</style>\n",
       "\n",
       "  <script>\n",
       "    async function quickchart(key) {\n",
       "      const quickchartButtonEl =\n",
       "        document.querySelector('#' + key + ' button');\n",
       "      quickchartButtonEl.disabled = true;  // To prevent multiple clicks.\n",
       "      quickchartButtonEl.classList.add('colab-df-spinner');\n",
       "      try {\n",
       "        const charts = await google.colab.kernel.invokeFunction(\n",
       "            'suggestCharts', [key], {});\n",
       "      } catch (error) {\n",
       "        console.error('Error during call to suggestCharts:', error);\n",
       "      }\n",
       "      quickchartButtonEl.classList.remove('colab-df-spinner');\n",
       "      quickchartButtonEl.classList.add('colab-df-quickchart-complete');\n",
       "    }\n",
       "    (() => {\n",
       "      let quickchartButtonEl =\n",
       "        document.querySelector('#df-06026aa7-96cd-40ba-8929-135596d9dd0d button');\n",
       "      quickchartButtonEl.style.display =\n",
       "        google.colab.kernel.accessAllowed ? 'block' : 'none';\n",
       "    })();\n",
       "  </script>\n",
       "</div>\n",
       "\n",
       "    </div>\n",
       "  </div>\n"
      ],
      "text/plain": [
       "   Header_Length  Protocol Type  Duration          Rate         Srate  Drate  \\\n",
       "0          114.6            5.9      51.2  30655.032896  30655.032896    0.0   \n",
       "1          129.0            6.0      64.0  90366.618129  90366.618129    0.0   \n",
       "2          321.1            7.1     100.6  13324.032213  13324.032213    0.0   \n",
       "3          292.6            6.0      80.8      3.897624      3.897624    0.0   \n",
       "4          483.6            7.1      69.9      8.191751      8.191751    0.0   \n",
       "\n",
       "   fin_flag_number  syn_flag_number  rst_flag_number  psh_flag_number  ...  \\\n",
       "0              0.0              0.0              0.0              0.5  ...   \n",
       "1              0.0              0.0              0.0              0.5  ...   \n",
       "2              0.0              0.0              0.0              0.4  ...   \n",
       "3              0.0              0.0              0.0              0.6  ...   \n",
       "4              0.0              0.0              0.0              0.4  ...   \n",
       "\n",
       "          Std  Tot size           IAT  Number   Magnitue      Radius  \\\n",
       "0   54.909851      99.6  1.694104e+08     5.5  13.639579   77.654256   \n",
       "1   49.319359      81.2  1.694104e+08    13.5  13.647331   69.908824   \n",
       "2   48.063324     119.4  8.832250e-02     5.5  14.179865   67.971805   \n",
       "3   59.841524      87.5  1.694104e+08    13.5  14.849839   84.803609   \n",
       "4  180.179746     160.9  8.218880e-02     5.5  16.531551  254.812640   \n",
       "\n",
       "     Covariance  Variance  Weight       Attack_Type  \n",
       "0   3685.081162       0.9    38.5  combined_dataset  \n",
       "1   2457.350159       1.0   244.6  combined_dataset  \n",
       "2   3322.481708       0.7    38.5  combined_dataset  \n",
       "3   3609.775298       1.0   244.6  combined_dataset  \n",
       "4  53155.729481       0.9    38.5  combined_dataset  \n",
       "\n",
       "[5 rows x 46 columns]"
      ]
     },
     "execution_count": 6,
     "metadata": {},
     "output_type": "execute_result"
    }
   ],
   "source": [
    "combined_data.head()"
   ]
  },
  {
   "cell_type": "markdown",
   "metadata": {
    "id": "pO0oKwzyzv-h"
   },
   "source": [
    "# now we have the dataset, we can do EDA"
   ]
  },
  {
   "cell_type": "code",
   "execution_count": null,
   "metadata": {
    "colab": {
     "base_uri": "https://localhost:8080/"
    },
    "id": "jC1rml_57KqD",
    "outputId": "0edb6d77-42b9-4dc0-95a1-da1654139d8a"
   },
   "outputs": [
    {
     "data": {
      "text/plain": [
       "Index(['Header_Length', 'Protocol Type', 'Duration', 'Rate', 'Srate', 'Drate',\n",
       "       'fin_flag_number', 'syn_flag_number', 'rst_flag_number',\n",
       "       'psh_flag_number', 'ack_flag_number', 'ece_flag_number',\n",
       "       'cwr_flag_number', 'ack_count', 'syn_count', 'fin_count', 'rst_count',\n",
       "       'HTTP', 'HTTPS', 'DNS', 'Telnet', 'SMTP', 'SSH', 'IRC', 'TCP', 'UDP',\n",
       "       'DHCP', 'ARP', 'ICMP', 'IGMP', 'IPv', 'LLC', 'Tot sum', 'Min', 'Max',\n",
       "       'AVG', 'Std', 'Tot size', 'IAT', 'Number', 'Magnitue', 'Radius',\n",
       "       'Covariance', 'Variance', 'Weight', 'Attack_Type'],\n",
       "      dtype='object')"
      ]
     },
     "execution_count": 7,
     "metadata": {},
     "output_type": "execute_result"
    }
   ],
   "source": [
    "combined_data.columns"
   ]
  },
  {
   "cell_type": "markdown",
   "metadata": {
    "id": "18TW7KaY7N8U"
   },
   "source": [
    "These are the features in the dataset. Our target variable is the Attact_type. The others are the features that will be used in the analysis."
   ]
  },
  {
   "cell_type": "markdown",
   "metadata": {
    "id": "EbNDoCgH7Y6e"
   },
   "source": [
    "# lets explore the target variable"
   ]
  },
  {
   "cell_type": "code",
   "execution_count": null,
   "metadata": {
    "colab": {
     "base_uri": "https://localhost:8080/",
     "height": 398
    },
    "id": "hHUly6wg7eVf",
    "outputId": "bdf0cf90-2227-4377-aaaf-7ce5d87358d8"
   },
   "outputs": [
    {
     "data": {
      "text/html": [
       "<div>\n",
       "<style scoped>\n",
       "    .dataframe tbody tr th:only-of-type {\n",
       "        vertical-align: middle;\n",
       "    }\n",
       "\n",
       "    .dataframe tbody tr th {\n",
       "        vertical-align: top;\n",
       "    }\n",
       "\n",
       "    .dataframe thead th {\n",
       "        text-align: right;\n",
       "    }\n",
       "</style>\n",
       "<table border=\"1\" class=\"dataframe\">\n",
       "  <thead>\n",
       "    <tr style=\"text-align: right;\">\n",
       "      <th></th>\n",
       "      <th>count</th>\n",
       "    </tr>\n",
       "    <tr>\n",
       "      <th>Attack_Type</th>\n",
       "      <th></th>\n",
       "    </tr>\n",
       "  </thead>\n",
       "  <tbody>\n",
       "    <tr>\n",
       "      <th>combined_dataset</th>\n",
       "      <td>318795</td>\n",
       "    </tr>\n",
       "    <tr>\n",
       "      <th>Benign_train.pcap</th>\n",
       "      <td>192732</td>\n",
       "    </tr>\n",
       "    <tr>\n",
       "      <th>MQTT-DDoS-Connect_Flood_train.pcap</th>\n",
       "      <td>173036</td>\n",
       "    </tr>\n",
       "    <tr>\n",
       "      <th>MQTT-DoS-Publish_Flood_train.pcap</th>\n",
       "      <td>44376</td>\n",
       "    </tr>\n",
       "    <tr>\n",
       "      <th>MQTT-DDoS-Publish_Flood_train.pcap</th>\n",
       "      <td>27623</td>\n",
       "    </tr>\n",
       "    <tr>\n",
       "      <th>ARP_Spoofing_train.pcap</th>\n",
       "      <td>16047</td>\n",
       "    </tr>\n",
       "    <tr>\n",
       "      <th>MQTT-DoS-Connect_Flood_train.pcap</th>\n",
       "      <td>12773</td>\n",
       "    </tr>\n",
       "    <tr>\n",
       "      <th>MQTT-Malformed_Data_train.pcap</th>\n",
       "      <td>5130</td>\n",
       "    </tr>\n",
       "    <tr>\n",
       "      <th>Recon-OS_Scan_train.pcap</th>\n",
       "      <td>2073</td>\n",
       "    </tr>\n",
       "  </tbody>\n",
       "</table>\n",
       "</div><br><label><b>dtype:</b> int64</label>"
      ],
      "text/plain": [
       "Attack_Type\n",
       "combined_dataset                      318795\n",
       "Benign_train.pcap                     192732\n",
       "MQTT-DDoS-Connect_Flood_train.pcap    173036\n",
       "MQTT-DoS-Publish_Flood_train.pcap      44376\n",
       "MQTT-DDoS-Publish_Flood_train.pcap     27623\n",
       "ARP_Spoofing_train.pcap                16047\n",
       "MQTT-DoS-Connect_Flood_train.pcap      12773\n",
       "MQTT-Malformed_Data_train.pcap          5130\n",
       "Recon-OS_Scan_train.pcap                2073\n",
       "Name: count, dtype: int64"
      ]
     },
     "execution_count": 8,
     "metadata": {},
     "output_type": "execute_result"
    }
   ],
   "source": [
    "combined_data['Attack_Type'].value_counts()"
   ]
  },
  {
   "cell_type": "code",
   "execution_count": null,
   "metadata": {
    "id": "LeKVuGTz7iQG"
   },
   "outputs": [],
   "source": [
    "# lets clean this column\n",
    "combined_data['Attack_Type']=[i.split('.')[0] for i in combined_data['Attack_Type']]"
   ]
  },
  {
   "cell_type": "code",
   "execution_count": null,
   "metadata": {
    "id": "WyQdpP4I783R"
   },
   "outputs": [],
   "source": [
    "combined_data['Attack_Type']=[i.split('train')[0] for i in combined_data['Attack_Type']]"
   ]
  },
  {
   "cell_type": "code",
   "execution_count": null,
   "metadata": {
    "id": "gb9aSIGO8bAZ"
   },
   "outputs": [],
   "source": [
    "combined_data['Attack_Type']=[i.replace(\"_\", \" \") for i in combined_data['Attack_Type']]"
   ]
  },
  {
   "cell_type": "code",
   "execution_count": null,
   "metadata": {
    "colab": {
     "base_uri": "https://localhost:8080/",
     "height": 452
    },
    "id": "Lg6dve6R8rCW",
    "outputId": "a14365e6-9b23-4816-cd45-78e4818ccf4e"
   },
   "outputs": [
    {
     "data": {
      "image/png": "[encoded data removed]",
      "text/plain": [
       "<Figure size 640x480 with 1 Axes>"
      ]
     },
     "metadata": {},
     "output_type": "display_data"
    }
   ],
   "source": [
    "combined_data['Attack_Type'].value_counts().plot(kind='barh');\n",
    "plt.title(\"Contribution of each variable\");"
   ]
  },
  {
   "cell_type": "code",
   "execution_count": null,
   "metadata": {
    "colab": {
     "base_uri": "https://localhost:8080/",
     "height": 398
    },
    "id": "Xpmt1vX_nC2S",
    "outputId": "94b29aac-c8d0-4704-b9ce-030c0e372264"
   },
   "outputs": [
    {
     "data": {
      "text/html": [
       "<div>\n",
       "<style scoped>\n",
       "    .dataframe tbody tr th:only-of-type {\n",
       "        vertical-align: middle;\n",
       "    }\n",
       "\n",
       "    .dataframe tbody tr th {\n",
       "        vertical-align: top;\n",
       "    }\n",
       "\n",
       "    .dataframe thead th {\n",
       "        text-align: right;\n",
       "    }\n",
       "</style>\n",
       "<table border=\"1\" class=\"dataframe\">\n",
       "  <thead>\n",
       "    <tr style=\"text-align: right;\">\n",
       "      <th></th>\n",
       "      <th>count</th>\n",
       "    </tr>\n",
       "    <tr>\n",
       "      <th>Attack_Type</th>\n",
       "      <th></th>\n",
       "    </tr>\n",
       "  </thead>\n",
       "  <tbody>\n",
       "    <tr>\n",
       "      <th>combined dataset</th>\n",
       "      <td>318795</td>\n",
       "    </tr>\n",
       "    <tr>\n",
       "      <th>Benign</th>\n",
       "      <td>192732</td>\n",
       "    </tr>\n",
       "    <tr>\n",
       "      <th>MQTT-DDoS-Connect Flood</th>\n",
       "      <td>173036</td>\n",
       "    </tr>\n",
       "    <tr>\n",
       "      <th>MQTT-DoS-Publish Flood</th>\n",
       "      <td>44376</td>\n",
       "    </tr>\n",
       "    <tr>\n",
       "      <th>MQTT-DDoS-Publish Flood</th>\n",
       "      <td>27623</td>\n",
       "    </tr>\n",
       "    <tr>\n",
       "      <th>ARP Spoofing</th>\n",
       "      <td>16047</td>\n",
       "    </tr>\n",
       "    <tr>\n",
       "      <th>MQTT-DoS-Connect Flood</th>\n",
       "      <td>12773</td>\n",
       "    </tr>\n",
       "    <tr>\n",
       "      <th>MQTT-Malformed Data</th>\n",
       "      <td>5130</td>\n",
       "    </tr>\n",
       "    <tr>\n",
       "      <th>Recon-OS Scan</th>\n",
       "      <td>2073</td>\n",
       "    </tr>\n",
       "  </tbody>\n",
       "</table>\n",
       "</div><br><label><b>dtype:</b> int64</label>"
      ],
      "text/plain": [
       "Attack_Type\n",
       "combined dataset            318795\n",
       "Benign                      192732\n",
       "MQTT-DDoS-Connect Flood     173036\n",
       "MQTT-DoS-Publish Flood       44376\n",
       "MQTT-DDoS-Publish Flood      27623\n",
       "ARP Spoofing                 16047\n",
       "MQTT-DoS-Connect Flood       12773\n",
       "MQTT-Malformed Data           5130\n",
       "Recon-OS Scan                 2073\n",
       "Name: count, dtype: int64"
      ]
     },
     "execution_count": 13,
     "metadata": {},
     "output_type": "execute_result"
    }
   ],
   "source": [
    "combined_data['Attack_Type'].value_counts()"
   ]
  },
  {
   "cell_type": "code",
   "execution_count": null,
   "metadata": {
    "id": "Ie1y88Cf9A5U"
   },
   "outputs": [],
   "source": [
    "combined_data=combined_data[combined_data['Attack_Type']!='combined dataset']\n"
   ]
  },
  {
   "cell_type": "code",
   "execution_count": null,
   "metadata": {
    "colab": {
     "base_uri": "https://localhost:8080/",
     "height": 564
    },
    "id": "Yyxh5TUh9l3f",
    "outputId": "91162770-8e77-4f14-8c55-7e21b14d303c"
   },
   "outputs": [
    {
     "data": {
      "image/png": "[encoded data removed]",
      "text/plain": [
       "<Figure size 1000x600 with 1 Axes>"
      ]
     },
     "metadata": {},
     "output_type": "display_data"
    }
   ],
   "source": [
    "# Plot the percentage distribution of Attack_Type\n",
    "(combined_data['Attack_Type'].value_counts(normalize=True) * 100).plot(kind='barh', figsize=(10, 6), color='skyblue')\n",
    "\n",
    "# Add labels and title for better readability\n",
    "import matplotlib.pyplot as plt\n",
    "plt.xlabel('Percentage')\n",
    "plt.ylabel('Attack Type')\n",
    "plt.title('Percentage Distribution of Attack Types')\n",
    "plt.show()\n"
   ]
  },
  {
   "cell_type": "code",
   "execution_count": null,
   "metadata": {
    "colab": {
     "base_uri": "https://localhost:8080/"
    },
    "id": "cp66oe9u9yik",
    "outputId": "734d8828-34fd-4219-b4db-2d386cdb406b"
   },
   "outputs": [
    {
     "name": "stdout",
     "output_type": "stream",
     "text": [
      "<class 'pandas.core.frame.DataFrame'>\n",
      "Index: 473790 entries, 318795 to 792584\n",
      "Data columns (total 46 columns):\n",
      " #   Column           Non-Null Count   Dtype  \n",
      "---  ------           --------------   -----  \n",
      " 0   Header_Length    473790 non-null  float64\n",
      " 1   Protocol Type    473790 non-null  float64\n",
      " 2   Duration         473790 non-null  float64\n",
      " 3   Rate             473790 non-null  float64\n",
      " 4   Srate            473790 non-null  float64\n",
      " 5   Drate            473790 non-null  float64\n",
      " 6   fin_flag_number  473790 non-null  float64\n",
      " 7   syn_flag_number  473790 non-null  float64\n",
      " 8   rst_flag_number  473790 non-null  float64\n",
      " 9   psh_flag_number  473790 non-null  float64\n",
      " 10  ack_flag_number  473790 non-null  float64\n",
      " 11  ece_flag_number  473790 non-null  float64\n",
      " 12  cwr_flag_number  473790 non-null  float64\n",
      " 13  ack_count        473790 non-null  float64\n",
      " 14  syn_count        473790 non-null  float64\n",
      " 15  fin_count        473790 non-null  float64\n",
      " 16  rst_count        473790 non-null  float64\n",
      " 17  HTTP             473790 non-null  float64\n",
      " 18  HTTPS            473790 non-null  float64\n",
      " 19  DNS              473790 non-null  float64\n",
      " 20  Telnet           473790 non-null  float64\n",
      " 21  SMTP             473790 non-null  float64\n",
      " 22  SSH              473790 non-null  float64\n",
      " 23  IRC              473790 non-null  float64\n",
      " 24  TCP              473790 non-null  float64\n",
      " 25  UDP              473789 non-null  float64\n",
      " 26  DHCP             473789 non-null  float64\n",
      " 27  ARP              473789 non-null  float64\n",
      " 28  ICMP             473789 non-null  float64\n",
      " 29  IGMP             473789 non-null  float64\n",
      " 30  IPv              473789 non-null  float64\n",
      " 31  LLC              473789 non-null  float64\n",
      " 32  Tot sum          473789 non-null  float64\n",
      " 33  Min              473789 non-null  float64\n",
      " 34  Max              473789 non-null  float64\n",
      " 35  AVG              473789 non-null  float64\n",
      " 36  Std              473789 non-null  float64\n",
      " 37  Tot size         473789 non-null  float64\n",
      " 38  IAT              473789 non-null  float64\n",
      " 39  Number           473789 non-null  float64\n",
      " 40  Magnitue         473789 non-null  float64\n",
      " 41  Radius           473789 non-null  float64\n",
      " 42  Covariance       473789 non-null  float64\n",
      " 43  Variance         473789 non-null  float64\n",
      " 44  Weight           473789 non-null  float64\n",
      " 45  Attack_Type      473790 non-null  object \n",
      "dtypes: float64(45), object(1)\n",
      "memory usage: 169.9+ MB\n"
     ]
    }
   ],
   "source": [
    "combined_data.info()"
   ]
  },
  {
   "cell_type": "code",
   "execution_count": null,
   "metadata": {
    "colab": {
     "base_uri": "https://localhost:8080/"
    },
    "id": "eynzqkVl-cDO",
    "outputId": "2a69e465-a988-4975-9f51-aae09dd4f616"
   },
   "outputs": [
    {
     "data": {
      "text/plain": [
       "(473789, 46)"
      ]
     },
     "execution_count": 16,
     "metadata": {},
     "output_type": "execute_result"
    }
   ],
   "source": [
    "df=combined_data.dropna()\n",
    "df.shape"
   ]
  },
  {
   "cell_type": "code",
   "execution_count": null,
   "metadata": {
    "colab": {
     "base_uri": "https://localhost:8080/"
    },
    "id": "yhMFJ25MF69z",
    "outputId": "0d230978-a933-41d3-f1c8-bcdc37045c0f"
   },
   "outputs": [
    {
     "name": "stdout",
     "output_type": "stream",
     "text": [
      "Original class distribution:\n",
      " Attack_Type\n",
      "Benign                      154090\n",
      "MQTT-DDoS-Connect Flood     138378\n",
      "MQTT-DoS-Publish Flood       35507\n",
      "MQTT-DDoS-Publish Flood      22247\n",
      "ARP Spoofing                 12855\n",
      "MQTT-DoS-Connect Flood       10240\n",
      "MQTT-Malformed Data           4089\n",
      "Recon-OS Scan                 1625\n",
      "Name: count, dtype: int64\n",
      "Resampled class distribution:\n",
      " Attack_Type\n",
      "MQTT-DoS-Connect Flood      154090\n",
      "MQTT-DoS-Publish Flood      154090\n",
      "Benign                      154090\n",
      "MQTT-DDoS-Connect Flood     154090\n",
      "MQTT-Malformed Data         154090\n",
      "MQTT-DDoS-Publish Flood     154090\n",
      "ARP Spoofing                154090\n",
      "Recon-OS Scan               154090\n",
      "Name: count, dtype: int64\n"
     ]
    }
   ],
   "source": [
    "from imblearn.over_sampling import SMOTE\n",
    "from sklearn.model_selection import train_test_split\n",
    "\n",
    "# Splitting data (already done in the code)\n",
    "y = df['Attack_Type']\n",
    "X = df.drop('Attack_Type', axis=1)\n",
    "X_train, X_test, y_train, y_test = train_test_split(X, y, test_size=0.2, random_state=42)\n",
    "\n",
    "# Apply SMOTE to the training set\n",
    "smote = SMOTE(random_state=42)\n",
    "X_train_resampled, y_train_resampled = smote.fit_resample(X_train, y_train)\n",
    "\n",
    "# Print class distributions\n",
    "print(\"Original class distribution:\\n\", y_train.value_counts())\n",
    "print(\"Resampled class distribution:\\n\", y_train_resampled.value_counts())\n"
   ]
  },
  {
   "cell_type": "code",
   "execution_count": null,
   "metadata": {
    "id": "5utQZeVf-lfe"
   },
   "outputs": [],
   "source": [
    "import numpy as np\n",
    "import pandas as pd\n",
    "from imblearn.over_sampling import SMOTE\n",
    "from sklearn.model_selection import train_test_split, RandomizedSearchCV\n",
    "from sklearn.preprocessing import StandardScaler\n",
    "from sklearn.linear_model import LogisticRegression\n",
    "from sklearn.svm import SVC\n",
    "from sklearn.tree import DecisionTreeClassifier\n",
    "from sklearn.ensemble import GradientBoostingClassifier\n",
    "from xgboost import XGBClassifier\n",
    "from tensorflow.keras.models import Sequential\n",
    "from tensorflow.keras.layers import LSTM, Dense, Dropout\n",
    "from sklearn.neighbors import KNeighborsClassifier\n",
    "from sklearn.metrics import precision_score, recall_score, f1_score\n",
    "from scipy.stats import randint\n",
    "\n",
    "# Standardize features for models that require scaling\n",
    "scaler = StandardScaler()\n",
    "X_train_scaled = scaler.fit_transform(X_train_resampled)\n",
    "X_test_scaled = scaler.transform(X_test)\n",
    "\n",
    "# Define hyperparameter search spaces\n",
    "param_distributions = {\n",
    "    'Logistic Regression': {'C': np.logspace(-4, 4, 20)},\n",
    "    'SVM': {'C': np.logspace(-4, 4, 20), 'kernel': ['linear', 'rbf']},\n",
    "    'Decision Tree': {'max_depth': randint(1, 20), 'min_samples_split': randint(2, 20)},\n",
    "    'Gradient Boosting': {'n_estimators': randint(50, 200), 'learning_rate': np.linspace(0.01, 0.3, 10)},\n",
    "    'XGBoost': {'n_estimators': randint(50, 200), 'learning_rate': np.linspace(0.01, 0.3, 10)},\n",
    "    'k-NN': {'n_neighbors': randint(1, 20)}\n",
    "}\n",
    "\n",
    "models = {\n",
    "    'Logistic Regression': LogisticRegression(max_iter=1000, random_state=42),\n",
    "    'SVM': SVC(random_state=42, probability=True),\n",
    "    'Decision Tree': DecisionTreeClassifier(random_state=42),\n",
    "    'Gradient Boosting': GradientBoostingClassifier(random_state=42),\n",
    "    'XGBoost': XGBClassifier(use_label_encoder=False, eval_metric='logloss', random_state=42),\n",
    "    'k-NN': KNeighborsClassifier()\n",
    "}\n",
    "\n",
    "# Perform Randomized Search for each model\n",
    "best_models = {}\n",
    "for name, model in models.items():\n",
    "    random_search = RandomizedSearchCV(model, param_distributions[name], n_iter=10, scoring='f1', cv=3, random_state=42, n_jobs=-1)\n",
    "    random_search.fit(X_train_scaled if name in ['Logistic Regression', 'SVM', 'k-NN'] else X_train_resampled, y_train_resampled)\n",
    "    best_models[name] = random_search.best_estimator_\n",
    "    print(f'Best parameters for {name}: {random_search.best_params_}')\n",
    "\n",
    "# Train best models\n",
    "for name, model in best_models.items():\n",
    "    model.fit(X_train_scaled if name in ['Logistic Regression', 'SVM', 'k-NN'] else X_train_resampled, y_train_resampled)\n",
    "\n",
    "# Prepare data for LSTM\n",
    "X_train_lstm = np.expand_dims(X_train_scaled, axis=1)\n",
    "X_test_lstm = np.expand_dims(X_test_scaled, axis=1)\n",
    "\n",
    "# Define and train LSTM model\n",
    "lstm_model = Sequential([\n",
    "    LSTM(50, activation='relu', input_shape=(1, X_train_lstm.shape[2])),\n",
    "    Dropout(0.2),\n",
    "    Dense(1, activation='sigmoid')\n",
    "])\n",
    "\n",
    "lstm_model.compile(optimizer='adam', loss='binary_crossentropy', metrics=['accuracy'])\n",
    "lstm_model.fit(X_train_lstm, y_train_resampled, epochs=10, batch_size=32, validation_data=(X_test_lstm, y_test), verbose=1)\n",
    "\n",
    "# Make predictions\n",
    "results = []\n",
    "for name, model in best_models.items():\n",
    "    y_pred = model.predict(X_test_scaled if name in ['Logistic Regression', 'SVM', 'k-NN'] else X_test)\n",
    "    precision = precision_score(y_test, y_pred, average='binary')\n",
    "    recall = recall_score(y_test, y_pred, average='binary')\n",
    "    f1 = f1_score(y_test, y_pred, average='binary')\n",
    "    results.append((name, precision, recall, f1))\n",
    "\n",
    "# LSTM Evaluation\n",
    "y_pred_lstm = (lstm_model.predict(X_test_lstm) > 0.5).astype(int)\n",
    "precision_lstm = precision_score(y_test, y_pred_lstm, average='binary')\n",
    "recall_lstm = recall_score(y_test, y_pred_lstm, average='binary')\n",
    "f1_lstm = f1_score(y_test, y_pred_lstm, average='binary')\n",
    "results.append(('LSTM', precision_lstm, recall_lstm, f1_lstm))\n",
    "\n",
    "# Convert results to DataFrame and print\n",
    "results_df = pd.DataFrame(results, columns=['Model', 'Precision', 'Recall', 'F1-Score'])\n",
    "print(results_df)\n"
   ]
  }
 ],
 "metadata": {
  "colab": {
   "provenance": []
  },
  "kernelspec": {
   "display_name": "Python 3 (ipykernel)",
   "language": "python",
   "name": "python3"
  },
  "language_info": {
   "codemirror_mode": {
    "name": "ipython",
    "version": 3
   },
   "file_extension": ".py",
   "mimetype": "text/x-python",
   "name": "python",
   "nbconvert_exporter": "python",
   "pygments_lexer": "ipython3",
   "version": "3.9.13"
  }
 },
 "nbformat": 4,
 "nbformat_minor": 4
}
